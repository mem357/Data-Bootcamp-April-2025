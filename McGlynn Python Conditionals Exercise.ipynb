{
 "cells": [
  {
   "cell_type": "code",
   "execution_count": 6,
   "id": "ffb60cfa-f2a3-4bf7-b314-7e734d5abc7d",
   "metadata": {},
   "outputs": [
    {
     "data": {
      "text/plain": [
       "'The number is positive'"
      ]
     },
     "execution_count": 6,
     "metadata": {},
     "output_type": "execute_result"
    }
   ],
   "source": [
    "#Task 1: Basic if Statement\n",
    "#Write a function that checks if a number is positive and prints an appropriate message.\n",
    "#If the number is greater than 0, print \"The number is positive\"\n",
    "def check_positive(number):\n",
    "    if number > 0:\n",
    "        return \"The number is positive\"\n",
    "\n",
    "check_positive(5)  # Output: The number is positive\n"
   ]
  },
  {
   "cell_type": "code",
   "execution_count": 9,
   "id": "c8e1baf7-b68b-4d6b-8199-9186d8e50e48",
   "metadata": {},
   "outputs": [
    {
     "data": {
      "text/plain": [
       "'You failed.'"
      ]
     },
     "execution_count": 9,
     "metadata": {},
     "output_type": "execute_result"
    }
   ],
   "source": [
    "#Task 2: if-else Statement\n",
    "#Write a function that determines if a student passed or failed based on their score.\n",
    "#A score of 60 or higher is a pass; otherwise, it's a fail.\n",
    "\n",
    "def pass_fail(score):\n",
    "    if score >= 60:\n",
    "        return \"You passed!\"\n",
    "    else:\n",
    "        return \"You failed.\"\n",
    "\n",
    "pass_fail(59)"
   ]
  },
  {
   "cell_type": "code",
   "execution_count": 11,
   "id": "3072f1b4-c87b-4a7c-af2e-13d05a240687",
   "metadata": {},
   "outputs": [
    {
     "name": "stdout",
     "output_type": "stream",
     "text": [
      "B\n",
      "A\n",
      "F\n"
     ]
    }
   ],
   "source": [
    "#Task 3: if-elif-else Statement\n",
    "#Write a function that converts a numeric grade to a letter grade:\n",
    "#90-100: A, 80-89: B, 70-79: C, 60-69: D, Below 60: F\n",
    "\n",
    "def grade_converter(score):\n",
    "    if score >=90:\n",
    "        return \"A\"\n",
    "    elif score >=80:\n",
    "        return \"B\"\n",
    "    elif score >=70:\n",
    "        return \"C\"\n",
    "    elif score >=60:\n",
    "        return \"D\"\n",
    "    else:\n",
    "        return \"F\"\n",
    "\n",
    "print(grade_converter(85))\n",
    "print(grade_converter(92))\n",
    "print(grade_converter(55))"
   ]
  },
  {
   "cell_type": "code",
   "execution_count": 28,
   "id": "2f2e75ae-4efc-4add-84a9-73284e07ce40",
   "metadata": {},
   "outputs": [
    {
     "name": "stdout",
     "output_type": "stream",
     "text": [
      "Welcome premium user! Premium content access granted\n"
     ]
    }
   ],
   "source": [
    "#Task 4: Nested Conditionals\n",
    "#Write a function to determine user access based on:\n",
    "#Login status (True or False)\n",
    "#Admin status (True or False)\n",
    "#Premium membership (True or False)\n",
    "'''\n",
    "Conditions:\n",
    "If not logged in, print \"Please log in to access the site\".\n",
    "If admin, print \"Welcome admin! Full access granted\".\n",
    "If premium user, print \"Welcome premium user! Premium content access granted\".\n",
    "Otherwise, print \"Welcome! Basic access granted\".\n",
    "'''\n",
    "\n",
    "def user_access(is_logged_in, is_admin, is_premium):\n",
    "    if not is_logged_in:\n",
    "        print(\"Please log in to access the site\")\n",
    "    else:\n",
    "        if is_admin:\n",
    "            print(\"Welcome admin! Full access granted\")\n",
    "        elif is_premium:\n",
    "            print(\"Welcome premium user! Premium content access granted\")\n",
    "        else: \n",
    "            print(\"Welcome! Basic access granted\")\n",
    "\n",
    "is_logged_in = True\n",
    "is_admin = False\n",
    "is_premium = True\n",
    "user_access(is_logged_in, is_admin, is_premium)"
   ]
  },
  {
   "cell_type": "code",
   "execution_count": 31,
   "id": "d3e77af7-7939-4f24-9c40-606f8a61ec9c",
   "metadata": {},
   "outputs": [
    {
     "name": "stdout",
     "output_type": "stream",
     "text": [
      "Odd\n"
     ]
    }
   ],
   "source": [
    "#Task 5: Ternary Operator\n",
    "#Write a function that returns \"Even\" or \"Odd\" based on whether a number is divisible by 2, using the ternary operator.\n",
    "\n",
    "def even_or_odd(number):\n",
    "    if number%2 == 0:\n",
    "        print(\"Even\")\n",
    "    else:\n",
    "        print(\"Odd\")\n",
    "\n",
    "even_or_odd(13498732839)"
   ]
  },
  {
   "cell_type": "code",
   "execution_count": 40,
   "id": "8d041aac-4a21-4be4-867e-eeea85b16fef",
   "metadata": {},
   "outputs": [
    {
     "name": "stdout",
     "output_type": "stream",
     "text": [
      "Not a leap year\n"
     ]
    }
   ],
   "source": [
    "#Task 6: Combining Conditions\n",
    "#Write a function to check if a year is a leap year.\n",
    "#A leap year is divisible by 4, except when divisible by 100 unless also divisible by 400.\n",
    "\n",
    "def leap_year(year):\n",
    "    if year % 400 == 0:\n",
    "        print(\"Leap year\")\n",
    "    elif year % 100 == 0:\n",
    "        print(\"Not a leap year\")\n",
    "    elif year % 4 == 0:\n",
    "        print(\"Leap year\")\n",
    "    else:\n",
    "        print(\"Not a leap year\")\n",
    "\n",
    "leap_year(1930)"
   ]
  },
  {
   "cell_type": "code",
   "execution_count": 48,
   "id": "7c9098a8-0206-49e5-bd16-2f903cd28a38",
   "metadata": {},
   "outputs": [
    {
     "data": {
      "text/plain": [
       "'Affordable non-electronics out of stock.'"
      ]
     },
     "execution_count": 48,
     "metadata": {},
     "output_type": "execute_result"
    }
   ],
   "source": [
    "#Task 7: Best Practices (Refactoring)\n",
    "#Refactor the function below to be more readable and efficient:\n",
    "\n",
    "def classify_item(item_type, price, in_stock):\n",
    "    category = \"electronics\" if item_type == \"electronics\" else \"non-electronics\"\n",
    "    price_category = \"Affordable\" if price < 100 else \"Premium\"\n",
    "    stock_status = \"in stock\" if in_stock else \"out of stock\"\n",
    "    return f\"{price_category} {category} {stock_status}.\"\n",
    "\n",
    "item_type = \"non-electronics\"\n",
    "price = 50\n",
    "in_stock = False\n",
    "\n",
    "classify_item(item_type, price, in_stock)"
   ]
  },
  {
   "cell_type": "code",
   "execution_count": null,
   "id": "1f5bb7a1-76c6-4a57-b9ec-7b261b0a1cc4",
   "metadata": {},
   "outputs": [],
   "source": []
  }
 ],
 "metadata": {
  "kernelspec": {
   "display_name": "Python 3 (ipykernel)",
   "language": "python",
   "name": "python3"
  },
  "language_info": {
   "codemirror_mode": {
    "name": "ipython",
    "version": 3
   },
   "file_extension": ".py",
   "mimetype": "text/x-python",
   "name": "python",
   "nbconvert_exporter": "python",
   "pygments_lexer": "ipython3",
   "version": "3.12.7"
  }
 },
 "nbformat": 4,
 "nbformat_minor": 5
}
