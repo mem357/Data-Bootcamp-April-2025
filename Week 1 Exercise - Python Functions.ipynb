{
 "cells": [
  {
   "cell_type": "code",
   "execution_count": 1,
   "id": "68733265-baa7-48b5-8169-95fefcf1cd70",
   "metadata": {},
   "outputs": [
    {
     "name": "stdout",
     "output_type": "stream",
     "text": [
      "Hello, world!\n"
     ]
    }
   ],
   "source": [
    "#Task 1: Basic Function\n",
    "#Write a function named hello_world that prints \"Hello, world!\".\n",
    "\n",
    "def hello_world():\n",
    "    print(\"Hello, world!\")\n",
    "\n",
    "hello_world()"
   ]
  },
  {
   "cell_type": "code",
   "execution_count": 3,
   "id": "2907efbf-849c-4a83-981a-eb09f621863d",
   "metadata": {},
   "outputs": [
    {
     "name": "stdout",
     "output_type": "stream",
     "text": [
      "Hello, Alice!\n"
     ]
    }
   ],
   "source": [
    "#Task 2: Function with a Parameter\n",
    "#Write a function named greet that takes a name parameter and prints a personalized greeting:\n",
    "#Example: \"Hello, Alice!\"\n",
    "\n",
    "def hello_name(name):\n",
    "    print(f\"Hello, {name}!\")\n",
    "\n",
    "hello_name(\"Alice\")"
   ]
  },
  {
   "cell_type": "code",
   "execution_count": 4,
   "id": "7211bce6-0241-465a-a4d7-9b42c5544677",
   "metadata": {},
   "outputs": [
    {
     "data": {
      "text/plain": [
       "50"
      ]
     },
     "execution_count": 4,
     "metadata": {},
     "output_type": "execute_result"
    }
   ],
   "source": [
    "'''Task 3: Function with Multiple Parameters\n",
    "Write a function named calculate_area that calculates the area of a rectangle.\n",
    "\n",
    "It should take two parameters: length and width.\n",
    "Return the calculated area.'''\n",
    "\n",
    "def calculate_area(length, width):\n",
    "    calculated_area = (length * width)\n",
    "    return calculated_area\n",
    "\n",
    "calculate_area(5, 10)"
   ]
  },
  {
   "cell_type": "code",
   "execution_count": 13,
   "id": "7914d43b-64bc-4c8a-ac0c-e5c1c8188af6",
   "metadata": {},
   "outputs": [
    {
     "name": "stdout",
     "output_type": "stream",
     "text": [
      "125\n",
      "25\n"
     ]
    }
   ],
   "source": [
    "'''Task 4: Function with Default Parameter Values\n",
    "Write a function named power that calculates a number raised to a power.\n",
    "\n",
    "Parameters:\n",
    "base: the number\n",
    "exponent: the power (default value should be 2)\n",
    "Return the result.'''\n",
    "\n",
    "def power(base, exponent=2):\n",
    "    return base ** exponent\n",
    "\n",
    "print(power(5,3))\n",
    "print(power(5))"
   ]
  },
  {
   "cell_type": "code",
   "execution_count": 32,
   "id": "6dc1b85d-75ec-426e-8896-611d6618abec",
   "metadata": {},
   "outputs": [
    {
     "data": {
      "text/plain": [
       "'John Jacob Smith'"
      ]
     },
     "execution_count": 32,
     "metadata": {},
     "output_type": "execute_result"
    }
   ],
   "source": [
    "'''Task 5: Function that Returns a Value\n",
    "Write a function named get_full_name that combines first, middle, and last names.\n",
    "\n",
    "The middle name should be optional.\n",
    "Return the full name as a string.'''\n",
    "\n",
    "def get_full_name(first, middle=\"\", last=\"\"):\n",
    "    return f\"{first} {middle} {last}\"\n",
    "    \n",
    "get_full_name(\"John\",\"Jacob\",\"Smith\")"
   ]
  },
  {
   "cell_type": "code",
   "execution_count": 37,
   "id": "0c9ad0c2-1166-427c-93bd-c43f900c1679",
   "metadata": {},
   "outputs": [
    {
     "name": "stdout",
     "output_type": "stream",
     "text": [
      "68.0\n",
      "32.22222222222222\n"
     ]
    }
   ],
   "source": [
    "'''Task 6: Function Composition\n",
    "Create two functions:\n",
    "\n",
    "celsius_to_fahrenheit: Converts Celsius to Fahrenheit using the formula:\n",
    "F = C * 9/5 + 32\n",
    "fahrenheit_to_celsius: Converts Fahrenheit to Celsius using the formula:\n",
    "C = (F - 32) * 5/9'''\n",
    "\n",
    "def celsius_to_fahrenheit(C): \n",
    "    return C * 9/5 + 32\n",
    "\n",
    "def fahrenheit_to_celsius(F):\n",
    "    return (F - 32) * 5/9\n",
    "\n",
    "print(celsius_to_fahrenheit(20))\n",
    "print(fahrenheit_to_celsius(90))"
   ]
  },
  {
   "cell_type": "code",
   "execution_count": 42,
   "id": "a8b491dc-83ed-47ba-b7a3-d4fd7f548023",
   "metadata": {},
   "outputs": [
    {
     "data": {
      "text/plain": [
       "'moderate'"
      ]
     },
     "execution_count": 42,
     "metadata": {},
     "output_type": "execute_result"
    }
   ],
   "source": [
    "'''Task 7: Combining Functions and Conditionals\n",
    "Write a function named analyze_temperature that:\n",
    "\n",
    "Takes a temperature value and a unit ('C' or 'F').\n",
    "Converts the temperature to the other unit.\n",
    "Returns a description of the weather:\n",
    "Below 0°C: \"freezing\"\n",
    "0-15°C: \"cold\"\n",
    "15-25°C: \"moderate\"\n",
    "Above 25°C: \"hot\"'''\n",
    "\n",
    "def analyze_temperature(value, unit):\n",
    "    if unit.upper() == \"F\":\n",
    "        value = fahrenheit_to_celsius(value)\n",
    "    if value>25: \n",
    "        return \"freezing\"\n",
    "    elif value >15:\n",
    "        return \"moderate\"\n",
    "    elif value >0:\n",
    "        return \"cold\"\n",
    "    else:\n",
    "        return \"freezing\"\n",
    "\n",
    "analyze_temperature(20, \"C\")"
   ]
  },
  {
   "cell_type": "code",
   "execution_count": 51,
   "id": "1118b00a-0e8a-47b5-bf83-732bc2c56d61",
   "metadata": {},
   "outputs": [
    {
     "data": {
      "text/plain": [
       "15.142857142857142"
      ]
     },
     "execution_count": 51,
     "metadata": {},
     "output_type": "execute_result"
    }
   ],
   "source": [
    "'''Task 8: Function with Variable Arguments\n",
    "Write a function named calculate_average that:\n",
    "\n",
    "Accepts any number of numeric arguments.\n",
    "Returns the average of all numbers provided.'''\n",
    "\n",
    "def calculate_average(*numbers):\n",
    "    return sum(numbers)/len(numbers)\n",
    "\n",
    "calculate_average(0,3,19,44,2,10,28)"
   ]
  },
  {
   "cell_type": "code",
   "execution_count": 59,
   "id": "bc0fb897-8fed-4287-b6ba-dc49d1873ce0",
   "metadata": {},
   "outputs": [
    {
     "data": {
      "text/plain": [
       "\"Alice's final grade is 89.7 (B).\""
      ]
     },
     "execution_count": 59,
     "metadata": {},
     "output_type": "execute_result"
    }
   ],
   "source": [
    "'''Task 9: Advanced Challenge - Student Grade Function\n",
    "Write a function named calculate_final_grade that:\n",
    "\n",
    "Takes a student's name and any number of assignment scores.\n",
    "Calculates the average score.\n",
    "Determines the letter grade:\n",
    "90+: A\n",
    "80-89: B\n",
    "70-79: C\n",
    "60-69: D\n",
    "Below 60: F\n",
    "Returns a formatted string:\n",
    "Example: \"Alice's final grade is 85 (B).\"'''\n",
    "\n",
    "def calculate_final_grade(name, *scores):\n",
    "    avg = sum(scores)/len(scores)\n",
    "    \n",
    "    if avg >= 90:\n",
    "        grade = \"A\"\n",
    "    elif avg >= 80:\n",
    "        grade = \"B\"\n",
    "    elif avg >= 70:\n",
    "        grade = \"C\"\n",
    "    elif avg >= 60:\n",
    "        grade = \"D\"\n",
    "    else:\n",
    "        grade = \"F\"\n",
    "    return f\"{name}'s final grade is {avg:.1f} ({grade}).\"\n",
    "\n",
    "calculate_final_grade(\"Alice\", 94,88, 87)"
   ]
  },
  {
   "cell_type": "code",
   "execution_count": null,
   "id": "66327a7d-89d2-4ced-ab17-8061e1c6486e",
   "metadata": {},
   "outputs": [],
   "source": []
  }
 ],
 "metadata": {
  "kernelspec": {
   "display_name": "Python 3 (ipykernel)",
   "language": "python",
   "name": "python3"
  },
  "language_info": {
   "codemirror_mode": {
    "name": "ipython",
    "version": 3
   },
   "file_extension": ".py",
   "mimetype": "text/x-python",
   "name": "python",
   "nbconvert_exporter": "python",
   "pygments_lexer": "ipython3",
   "version": "3.12.7"
  }
 },
 "nbformat": 4,
 "nbformat_minor": 5
}
