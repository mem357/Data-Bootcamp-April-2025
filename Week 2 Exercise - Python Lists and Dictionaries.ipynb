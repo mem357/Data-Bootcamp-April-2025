{
 "cells": [
  {
   "cell_type": "code",
   "execution_count": null,
   "id": "1b0673d4-29ee-42ba-9e8e-8c98494beffe",
   "metadata": {},
   "outputs": [],
   "source": [
    "# Exercise 1: Lists and Dictionaries\n",
    "\n",
    "\"\"\"\n",
    "Instructions:\n",
    "1. Create a shopping list with at least 5 items\n",
    "2. Print out the third item in the list\n",
    "3. Replace the first item with a different item\n",
    "4. Add an item to the end of the list\n",
    "5. Create a dictionary of 3 grocery items with their prices\n",
    "6. Print a message showing one item and its price\n",
    "7. Add a new item to the dictionary with its price\n",
    "8. Calculate and print the total cost of all items\n",
    "\"\"\""
   ]
  },
  {
   "cell_type": "code",
   "execution_count": 10,
   "id": "e1ab2456-5423-4876-8b94-63d27c93e14c",
   "metadata": {},
   "outputs": [
    {
     "name": "stdout",
     "output_type": "stream",
     "text": [
      "Shopping list: ['milk', 'eggs', 'bananas', 'bread', 'apples']\n",
      "The third item in the list is bananas.\n",
      "['juice', 'eggs', 'bananas', 'bread', 'apples']\n",
      "['juice', 'eggs', 'bananas', 'bread', 'apples', 'pretzels']\n",
      "The cost of bread is $2.99\n",
      "{'eggs': 3.99, 'bananas': 1.99, 'bread': 2.99, 'pretzels': 1.99}\n",
      "Total cost: 10.96\n"
     ]
    }
   ],
   "source": [
    "# Your solution here:\n",
    "#1. Create a shopping list with at least 5 items\n",
    "shopping_list = ['milk', 'eggs', 'bananas', 'bread', 'apples']\n",
    "print(\"Shopping list:\", shopping_list)\n",
    "\n",
    "#2. Print out the third item in the list\n",
    "print(f\"The third item in the list is {shopping_list[2]}.\")\n",
    "\n",
    "#3. Replace the first item with a different item\n",
    "shopping_list[0] = 'juice'\n",
    "print(shopping_list)\n",
    "\n",
    "#4. Add an item to the end of the list\n",
    "shopping_list.append(\"pretzels\")\n",
    "print(shopping_list)\n",
    "\n",
    "#5. Create a dictionary of 3 grocery items with their prices\n",
    "grocery_prices = {'eggs':3.99, 'bananas':1.99, 'bread':2.99}\n",
    "\n",
    "#6. Print a message showing one item and its price\n",
    "print(f\"The cost of bread is ${grocery_prices['bread']}\")\n",
    "\n",
    "#7. Add a new item to the dictionary with its price\n",
    "grocery_prices['pretzels'] = 1.99\n",
    "print(grocery_prices)\n",
    "\n",
    "#8. Calculate and print the total cost of all items\n",
    "print(\"Total cost:\", sum(grocery_prices.values()))\n",
    "\n"
   ]
  },
  {
   "cell_type": "code",
   "execution_count": null,
   "id": "c4e249e9-52ce-4f27-aef8-a4bd16182ac8",
   "metadata": {},
   "outputs": [],
   "source": []
  }
 ],
 "metadata": {
  "kernelspec": {
   "display_name": "Python 3 (ipykernel)",
   "language": "python",
   "name": "python3"
  },
  "language_info": {
   "codemirror_mode": {
    "name": "ipython",
    "version": 3
   },
   "file_extension": ".py",
   "mimetype": "text/x-python",
   "name": "python",
   "nbconvert_exporter": "python",
   "pygments_lexer": "ipython3",
   "version": "3.12.7"
  }
 },
 "nbformat": 4,
 "nbformat_minor": 5
}
